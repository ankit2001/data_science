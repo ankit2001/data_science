{
 "cells": [
  {
   "cell_type": "markdown",
   "metadata": {},
   "source": [
    "# Sklearn Use Cases "
   ]
  },
  {
   "cell_type": "code",
   "execution_count": 3,
   "metadata": {},
   "outputs": [],
   "source": [
    "import numpy as np\n",
    "import pandas as pd\n",
    "import matplotlib.pyplot as plt\n",
    "from sklearn.preprocessing import MinMaxScaler\n"
   ]
  },
  {
   "cell_type": "code",
   "execution_count": 5,
   "metadata": {},
   "outputs": [],
   "source": [
    "sk = MinMaxScaler()"
   ]
  },
  {
   "cell_type": "code",
   "execution_count": 6,
   "metadata": {},
   "outputs": [],
   "source": [
    "data = np.random.randint(0, 20, (32, 32))"
   ]
  },
  {
   "cell_type": "code",
   "execution_count": 7,
   "metadata": {},
   "outputs": [
    {
     "data": {
      "text/plain": [
       "array([[17,  2, 17, ...,  0, 10, 16],\n",
       "       [16, 19, 19, ..., 11,  6, 18],\n",
       "       [16, 13,  7, ..., 17,  4,  5],\n",
       "       ...,\n",
       "       [ 3, 18, 15, ..., 10, 16,  6],\n",
       "       [10,  1, 10, ..., 18,  8,  9],\n",
       "       [ 6, 15,  7, ...,  8,  2, 18]])"
      ]
     },
     "execution_count": 7,
     "metadata": {},
     "output_type": "execute_result"
    }
   ],
   "source": [
    "data"
   ]
  },
  {
   "cell_type": "code",
   "execution_count": 23,
   "metadata": {},
   "outputs": [],
   "source": [
    "My_data = MinMaxScaler()"
   ]
  },
  {
   "cell_type": "code",
   "execution_count": 24,
   "metadata": {},
   "outputs": [
    {
     "data": {
      "text/plain": [
       "MinMaxScaler()"
      ]
     },
     "execution_count": 24,
     "metadata": {},
     "output_type": "execute_result"
    }
   ],
   "source": [
    "My_data"
   ]
  },
  {
   "cell_type": "code",
   "execution_count": 25,
   "metadata": {},
   "outputs": [],
   "source": [
    "Copy_data = sk.fit(data)"
   ]
  },
  {
   "cell_type": "code",
   "execution_count": 26,
   "metadata": {},
   "outputs": [
    {
     "data": {
      "text/plain": [
       "array([[0.89473684, 0.10526316, 0.89473684, ..., 0.        , 0.52631579,\n",
       "        0.83333333],\n",
       "       [0.84210526, 1.        , 1.        , ..., 0.61111111, 0.31578947,\n",
       "        0.94444444],\n",
       "       [0.84210526, 0.68421053, 0.36842105, ..., 0.94444444, 0.21052632,\n",
       "        0.22222222],\n",
       "       ...,\n",
       "       [0.15789474, 0.94736842, 0.78947368, ..., 0.55555556, 0.84210526,\n",
       "        0.27777778],\n",
       "       [0.52631579, 0.05263158, 0.52631579, ..., 1.        , 0.42105263,\n",
       "        0.44444444],\n",
       "       [0.31578947, 0.78947368, 0.36842105, ..., 0.44444444, 0.10526316,\n",
       "        0.94444444]])"
      ]
     },
     "execution_count": 26,
     "metadata": {},
     "output_type": "execute_result"
    }
   ],
   "source": [
    "Copy_data.transform(data)"
   ]
  },
  {
   "cell_type": "code",
   "execution_count": 27,
   "metadata": {},
   "outputs": [
    {
     "data": {
      "text/plain": [
       "array([[0.89473684, 0.10526316, 0.89473684, ..., 0.        , 0.52631579,\n",
       "        0.83333333],\n",
       "       [0.84210526, 1.        , 1.        , ..., 0.61111111, 0.31578947,\n",
       "        0.94444444],\n",
       "       [0.84210526, 0.68421053, 0.36842105, ..., 0.94444444, 0.21052632,\n",
       "        0.22222222],\n",
       "       ...,\n",
       "       [0.15789474, 0.94736842, 0.78947368, ..., 0.55555556, 0.84210526,\n",
       "        0.27777778],\n",
       "       [0.52631579, 0.05263158, 0.52631579, ..., 1.        , 0.42105263,\n",
       "        0.44444444],\n",
       "       [0.31578947, 0.78947368, 0.36842105, ..., 0.44444444, 0.10526316,\n",
       "        0.94444444]])"
      ]
     },
     "execution_count": 27,
     "metadata": {},
     "output_type": "execute_result"
    }
   ],
   "source": [
    "My_data.fit_transform(data)"
   ]
  },
  {
   "cell_type": "code",
   "execution_count": 32,
   "metadata": {},
   "outputs": [],
   "source": [
    "from sklearn.model_selection import train_test_split"
   ]
  },
  {
   "cell_type": "code",
   "execution_count": 33,
   "metadata": {},
   "outputs": [],
   "source": [
    "data = np.random.randint(0, 339, (32, 3))"
   ]
  },
  {
   "cell_type": "code",
   "execution_count": 42,
   "metadata": {},
   "outputs": [],
   "source": [
    "df = pd.DataFrame(data, columns = [\"I\", \"We\", \"They\"])"
   ]
  },
  {
   "cell_type": "code",
   "execution_count": 37,
   "metadata": {},
   "outputs": [
    {
     "data": {
      "text/html": [
       "<div>\n",
       "<style scoped>\n",
       "    .dataframe tbody tr th:only-of-type {\n",
       "        vertical-align: middle;\n",
       "    }\n",
       "\n",
       "    .dataframe tbody tr th {\n",
       "        vertical-align: top;\n",
       "    }\n",
       "\n",
       "    .dataframe thead th {\n",
       "        text-align: right;\n",
       "    }\n",
       "</style>\n",
       "<table border=\"1\" class=\"dataframe\">\n",
       "  <thead>\n",
       "    <tr style=\"text-align: right;\">\n",
       "      <th></th>\n",
       "      <th>I</th>\n",
       "      <th>We</th>\n",
       "      <th>They</th>\n",
       "    </tr>\n",
       "  </thead>\n",
       "  <tbody>\n",
       "    <tr>\n",
       "      <th>0</th>\n",
       "      <td>12</td>\n",
       "      <td>113</td>\n",
       "      <td>124</td>\n",
       "    </tr>\n",
       "    <tr>\n",
       "      <th>1</th>\n",
       "      <td>288</td>\n",
       "      <td>3</td>\n",
       "      <td>108</td>\n",
       "    </tr>\n",
       "    <tr>\n",
       "      <th>2</th>\n",
       "      <td>130</td>\n",
       "      <td>251</td>\n",
       "      <td>224</td>\n",
       "    </tr>\n",
       "    <tr>\n",
       "      <th>3</th>\n",
       "      <td>38</td>\n",
       "      <td>179</td>\n",
       "      <td>133</td>\n",
       "    </tr>\n",
       "    <tr>\n",
       "      <th>4</th>\n",
       "      <td>323</td>\n",
       "      <td>309</td>\n",
       "      <td>97</td>\n",
       "    </tr>\n",
       "    <tr>\n",
       "      <th>5</th>\n",
       "      <td>252</td>\n",
       "      <td>88</td>\n",
       "      <td>284</td>\n",
       "    </tr>\n",
       "    <tr>\n",
       "      <th>6</th>\n",
       "      <td>208</td>\n",
       "      <td>102</td>\n",
       "      <td>140</td>\n",
       "    </tr>\n",
       "    <tr>\n",
       "      <th>7</th>\n",
       "      <td>78</td>\n",
       "      <td>72</td>\n",
       "      <td>98</td>\n",
       "    </tr>\n",
       "    <tr>\n",
       "      <th>8</th>\n",
       "      <td>331</td>\n",
       "      <td>138</td>\n",
       "      <td>25</td>\n",
       "    </tr>\n",
       "    <tr>\n",
       "      <th>9</th>\n",
       "      <td>112</td>\n",
       "      <td>266</td>\n",
       "      <td>24</td>\n",
       "    </tr>\n",
       "    <tr>\n",
       "      <th>10</th>\n",
       "      <td>44</td>\n",
       "      <td>9</td>\n",
       "      <td>122</td>\n",
       "    </tr>\n",
       "    <tr>\n",
       "      <th>11</th>\n",
       "      <td>21</td>\n",
       "      <td>218</td>\n",
       "      <td>57</td>\n",
       "    </tr>\n",
       "    <tr>\n",
       "      <th>12</th>\n",
       "      <td>277</td>\n",
       "      <td>217</td>\n",
       "      <td>92</td>\n",
       "    </tr>\n",
       "    <tr>\n",
       "      <th>13</th>\n",
       "      <td>317</td>\n",
       "      <td>231</td>\n",
       "      <td>49</td>\n",
       "    </tr>\n",
       "    <tr>\n",
       "      <th>14</th>\n",
       "      <td>51</td>\n",
       "      <td>251</td>\n",
       "      <td>330</td>\n",
       "    </tr>\n",
       "    <tr>\n",
       "      <th>15</th>\n",
       "      <td>312</td>\n",
       "      <td>164</td>\n",
       "      <td>205</td>\n",
       "    </tr>\n",
       "    <tr>\n",
       "      <th>16</th>\n",
       "      <td>218</td>\n",
       "      <td>225</td>\n",
       "      <td>232</td>\n",
       "    </tr>\n",
       "    <tr>\n",
       "      <th>17</th>\n",
       "      <td>270</td>\n",
       "      <td>299</td>\n",
       "      <td>29</td>\n",
       "    </tr>\n",
       "    <tr>\n",
       "      <th>18</th>\n",
       "      <td>169</td>\n",
       "      <td>164</td>\n",
       "      <td>142</td>\n",
       "    </tr>\n",
       "    <tr>\n",
       "      <th>19</th>\n",
       "      <td>33</td>\n",
       "      <td>84</td>\n",
       "      <td>287</td>\n",
       "    </tr>\n",
       "    <tr>\n",
       "      <th>20</th>\n",
       "      <td>66</td>\n",
       "      <td>104</td>\n",
       "      <td>186</td>\n",
       "    </tr>\n",
       "    <tr>\n",
       "      <th>21</th>\n",
       "      <td>40</td>\n",
       "      <td>28</td>\n",
       "      <td>19</td>\n",
       "    </tr>\n",
       "    <tr>\n",
       "      <th>22</th>\n",
       "      <td>186</td>\n",
       "      <td>73</td>\n",
       "      <td>236</td>\n",
       "    </tr>\n",
       "    <tr>\n",
       "      <th>23</th>\n",
       "      <td>26</td>\n",
       "      <td>338</td>\n",
       "      <td>262</td>\n",
       "    </tr>\n",
       "    <tr>\n",
       "      <th>24</th>\n",
       "      <td>277</td>\n",
       "      <td>216</td>\n",
       "      <td>9</td>\n",
       "    </tr>\n",
       "    <tr>\n",
       "      <th>25</th>\n",
       "      <td>290</td>\n",
       "      <td>216</td>\n",
       "      <td>220</td>\n",
       "    </tr>\n",
       "    <tr>\n",
       "      <th>26</th>\n",
       "      <td>305</td>\n",
       "      <td>324</td>\n",
       "      <td>336</td>\n",
       "    </tr>\n",
       "    <tr>\n",
       "      <th>27</th>\n",
       "      <td>44</td>\n",
       "      <td>294</td>\n",
       "      <td>177</td>\n",
       "    </tr>\n",
       "    <tr>\n",
       "      <th>28</th>\n",
       "      <td>134</td>\n",
       "      <td>74</td>\n",
       "      <td>137</td>\n",
       "    </tr>\n",
       "    <tr>\n",
       "      <th>29</th>\n",
       "      <td>253</td>\n",
       "      <td>12</td>\n",
       "      <td>187</td>\n",
       "    </tr>\n",
       "    <tr>\n",
       "      <th>30</th>\n",
       "      <td>5</td>\n",
       "      <td>217</td>\n",
       "      <td>336</td>\n",
       "    </tr>\n",
       "    <tr>\n",
       "      <th>31</th>\n",
       "      <td>211</td>\n",
       "      <td>300</td>\n",
       "      <td>262</td>\n",
       "    </tr>\n",
       "  </tbody>\n",
       "</table>\n",
       "</div>"
      ],
      "text/plain": [
       "      I   We  They\n",
       "0    12  113   124\n",
       "1   288    3   108\n",
       "2   130  251   224\n",
       "3    38  179   133\n",
       "4   323  309    97\n",
       "5   252   88   284\n",
       "6   208  102   140\n",
       "7    78   72    98\n",
       "8   331  138    25\n",
       "9   112  266    24\n",
       "10   44    9   122\n",
       "11   21  218    57\n",
       "12  277  217    92\n",
       "13  317  231    49\n",
       "14   51  251   330\n",
       "15  312  164   205\n",
       "16  218  225   232\n",
       "17  270  299    29\n",
       "18  169  164   142\n",
       "19   33   84   287\n",
       "20   66  104   186\n",
       "21   40   28    19\n",
       "22  186   73   236\n",
       "23   26  338   262\n",
       "24  277  216     9\n",
       "25  290  216   220\n",
       "26  305  324   336\n",
       "27   44  294   177\n",
       "28  134   74   137\n",
       "29  253   12   187\n",
       "30    5  217   336\n",
       "31  211  300   262"
      ]
     },
     "execution_count": 37,
     "metadata": {},
     "output_type": "execute_result"
    }
   ],
   "source": [
    "df"
   ]
  },
  {
   "cell_type": "code",
   "execution_count": 50,
   "metadata": {},
   "outputs": [],
   "source": [
    "X_train, X_test, Y_train, Y_test = train_test_split(df[\"I\"], df[\"We\"], test_size = 0.3, random_state = 1212)"
   ]
  },
  {
   "cell_type": "code",
   "execution_count": 51,
   "metadata": {},
   "outputs": [
    {
     "name": "stdout",
     "output_type": "stream",
     "text": [
      "6     208\n",
      "11     21\n",
      "3      38\n",
      "15    312\n",
      "24    277\n",
      "21     40\n",
      "23     26\n",
      "0      12\n",
      "14     51\n",
      "30      5\n",
      "7      78\n",
      "4     323\n",
      "18    169\n",
      "1     288\n",
      "9     112\n",
      "13    317\n",
      "5     252\n",
      "16    218\n",
      "2     130\n",
      "22    186\n",
      "26    305\n",
      "8     331\n",
      "Name: I, dtype: int64\n",
      "\n",
      "\n",
      "27     44\n",
      "29    253\n",
      "10     44\n",
      "25    290\n",
      "20     66\n",
      "19     33\n",
      "12    277\n",
      "28    134\n",
      "17    270\n",
      "31    211\n",
      "Name: I, dtype: int64\n",
      "\n",
      "\n",
      "6     102\n",
      "11    218\n",
      "3     179\n",
      "15    164\n",
      "24    216\n",
      "21     28\n",
      "23    338\n",
      "0     113\n",
      "14    251\n",
      "30    217\n",
      "7      72\n",
      "4     309\n",
      "18    164\n",
      "1       3\n",
      "9     266\n",
      "13    231\n",
      "5      88\n",
      "16    225\n",
      "2     251\n",
      "22     73\n",
      "26    324\n",
      "8     138\n",
      "Name: We, dtype: int64\n",
      "\n",
      "\n",
      "27    294\n",
      "29     12\n",
      "10      9\n",
      "25    216\n",
      "20    104\n",
      "19     84\n",
      "12    217\n",
      "28     74\n",
      "17    299\n",
      "31    300\n",
      "Name: We, dtype: int64\n"
     ]
    }
   ],
   "source": [
    "print(X_train)\n",
    "print(\"\\n\")\n",
    "print(X_test)\n",
    "print(\"\\n\")\n",
    "print(Y_train)\n",
    "print(\"\\n\")\n",
    "print(Y_test)"
   ]
  },
  {
   "cell_type": "code",
   "execution_count": 53,
   "metadata": {},
   "outputs": [],
   "source": [
    "from sklearn import datasets"
   ]
  },
  {
   "cell_type": "code",
   "execution_count": 57,
   "metadata": {},
   "outputs": [],
   "source": [
    "data = datasets.make_classification(n_samples = 10000, n_features = 100, n_informative = 41, n_classes = 5, random_state = 121)"
   ]
  },
  {
   "cell_type": "code",
   "execution_count": 58,
   "metadata": {},
   "outputs": [
    {
     "data": {
      "text/plain": [
       "(array([[-1.89918387, -0.32805572, -3.13169066, ...,  0.03440107,\n",
       "          1.73635897,  1.69156846],\n",
       "        [ 7.31763174,  1.26224263, -0.70358629, ..., -0.53327617,\n",
       "          5.19137486,  0.33683485],\n",
       "        [ 6.41552336, -0.01233154, -9.7610073 , ...,  0.27489622,\n",
       "          2.91811086, -4.80095453],\n",
       "        ...,\n",
       "        [-0.13620819, -0.0419558 , -1.27580849, ...,  0.66615878,\n",
       "         -4.06049056,  1.02335512],\n",
       "        [-0.49455082,  0.33110982, -0.62168213, ...,  0.76972511,\n",
       "          0.3874791 , -2.89364707],\n",
       "        [ 2.39449087,  0.08970025,  1.05417673, ...,  0.01238814,\n",
       "         -3.55673506,  1.20032393]]),\n",
       " array([1, 1, 0, ..., 4, 3, 4]))"
      ]
     },
     "execution_count": 58,
     "metadata": {},
     "output_type": "execute_result"
    }
   ],
   "source": [
    "data"
   ]
  },
  {
   "cell_type": "code",
   "execution_count": 59,
   "metadata": {},
   "outputs": [],
   "source": [
    "X = data[0]"
   ]
  },
  {
   "cell_type": "code",
   "execution_count": 66,
   "metadata": {},
   "outputs": [],
   "source": [
    "Y = data[1]"
   ]
  },
  {
   "cell_type": "code",
   "execution_count": 67,
   "metadata": {},
   "outputs": [
    {
     "name": "stdout",
     "output_type": "stream",
     "text": [
      "[[-1.89918387 -0.32805572 -3.13169066 ...  0.03440107  1.73635897\n",
      "   1.69156846]\n",
      " [ 7.31763174  1.26224263 -0.70358629 ... -0.53327617  5.19137486\n",
      "   0.33683485]\n",
      " [ 6.41552336 -0.01233154 -9.7610073  ...  0.27489622  2.91811086\n",
      "  -4.80095453]\n",
      " ...\n",
      " [-0.13620819 -0.0419558  -1.27580849 ...  0.66615878 -4.06049056\n",
      "   1.02335512]\n",
      " [-0.49455082  0.33110982 -0.62168213 ...  0.76972511  0.3874791\n",
      "  -2.89364707]\n",
      " [ 2.39449087  0.08970025  1.05417673 ...  0.01238814 -3.55673506\n",
      "   1.20032393]] [1 1 0 ... 4 3 4],"
     ]
    }
   ],
   "source": [
    "print(X, Y, end = \",\")"
   ]
  },
  {
   "cell_type": "code",
   "execution_count": 68,
   "metadata": {},
   "outputs": [],
   "source": [
    "X_train, X_test, Y_train, Y_test = train_test_split(X, Y, random_state = 121, test_size = 0.33)"
   ]
  },
  {
   "cell_type": "code",
   "execution_count": 69,
   "metadata": {},
   "outputs": [
    {
     "name": "stdout",
     "output_type": "stream",
     "text": [
      "[[ 2.21012349  0.10417524  1.04561378 ...  2.24480924 -2.07792599\n",
      "   1.05485705]\n",
      " [ 1.07544179 -1.48937105  3.27409252 ...  0.2067474  -1.53865644\n",
      "   6.52803243]\n",
      " [ 1.76363526 -0.7971794   1.45783874 ...  0.75145942  1.09241607\n",
      "   1.13773366]\n",
      " ...\n",
      " [ 6.77988768  1.29304771 -4.56723281 ...  0.51387808 -0.04079527\n",
      "   2.26996204]\n",
      " [ 2.14866835  1.2801669   8.16758768 ...  0.45944571 -6.9474329\n",
      "   1.48077429]\n",
      " [-0.31803053  0.04927177 -6.59231029 ...  0.56474803 -3.92267448\n",
      "  -2.26242476]] [[ 3.48429815 -1.63587074 -0.29458195 ...  1.08788298 -3.2206501\n",
      "   0.37802036]\n",
      " [ 1.69056065 -0.46868066 -8.50968688 ...  0.04078714  0.41714239\n",
      "  -0.89274878]\n",
      " [-2.93218248  0.58049949  3.2817219  ...  0.40609603 -6.33482501\n",
      "  -0.71045312]\n",
      " ...\n",
      " [ 2.24080664 -1.95650904  2.88873583 ... -0.3859258  -2.04757147\n",
      "  -6.63227369]\n",
      " [ 4.08714291 -2.04026813 -0.40719    ... -1.33409911 -3.61940896\n",
      "   3.77824704]\n",
      " [-1.9548451  -0.37555996  4.04601738 ... -1.16460396  5.13433236\n",
      "  -1.14917093]] [2 0 2 ... 4 1 1] [4 1 2 ... 2 4 1]\n"
     ]
    }
   ],
   "source": [
    "print(X_train, X_test, Y_train, Y_test)"
   ]
  },
  {
   "cell_type": "code",
   "execution_count": 72,
   "metadata": {},
   "outputs": [],
   "source": [
    "data = datasets.load_iris()"
   ]
  },
  {
   "cell_type": "code",
   "execution_count": 73,
   "metadata": {},
   "outputs": [
    {
     "name": "stdout",
     "output_type": "stream",
     "text": [
      "{'data': array([[5.1, 3.5, 1.4, 0.2],\n",
      "       [4.9, 3. , 1.4, 0.2],\n",
      "       [4.7, 3.2, 1.3, 0.2],\n",
      "       [4.6, 3.1, 1.5, 0.2],\n",
      "       [5. , 3.6, 1.4, 0.2],\n",
      "       [5.4, 3.9, 1.7, 0.4],\n",
      "       [4.6, 3.4, 1.4, 0.3],\n",
      "       [5. , 3.4, 1.5, 0.2],\n",
      "       [4.4, 2.9, 1.4, 0.2],\n",
      "       [4.9, 3.1, 1.5, 0.1],\n",
      "       [5.4, 3.7, 1.5, 0.2],\n",
      "       [4.8, 3.4, 1.6, 0.2],\n",
      "       [4.8, 3. , 1.4, 0.1],\n",
      "       [4.3, 3. , 1.1, 0.1],\n",
      "       [5.8, 4. , 1.2, 0.2],\n",
      "       [5.7, 4.4, 1.5, 0.4],\n",
      "       [5.4, 3.9, 1.3, 0.4],\n",
      "       [5.1, 3.5, 1.4, 0.3],\n",
      "       [5.7, 3.8, 1.7, 0.3],\n",
      "       [5.1, 3.8, 1.5, 0.3],\n",
      "       [5.4, 3.4, 1.7, 0.2],\n",
      "       [5.1, 3.7, 1.5, 0.4],\n",
      "       [4.6, 3.6, 1. , 0.2],\n",
      "       [5.1, 3.3, 1.7, 0.5],\n",
      "       [4.8, 3.4, 1.9, 0.2],\n",
      "       [5. , 3. , 1.6, 0.2],\n",
      "       [5. , 3.4, 1.6, 0.4],\n",
      "       [5.2, 3.5, 1.5, 0.2],\n",
      "       [5.2, 3.4, 1.4, 0.2],\n",
      "       [4.7, 3.2, 1.6, 0.2],\n",
      "       [4.8, 3.1, 1.6, 0.2],\n",
      "       [5.4, 3.4, 1.5, 0.4],\n",
      "       [5.2, 4.1, 1.5, 0.1],\n",
      "       [5.5, 4.2, 1.4, 0.2],\n",
      "       [4.9, 3.1, 1.5, 0.2],\n",
      "       [5. , 3.2, 1.2, 0.2],\n",
      "       [5.5, 3.5, 1.3, 0.2],\n",
      "       [4.9, 3.6, 1.4, 0.1],\n",
      "       [4.4, 3. , 1.3, 0.2],\n",
      "       [5.1, 3.4, 1.5, 0.2],\n",
      "       [5. , 3.5, 1.3, 0.3],\n",
      "       [4.5, 2.3, 1.3, 0.3],\n",
      "       [4.4, 3.2, 1.3, 0.2],\n",
      "       [5. , 3.5, 1.6, 0.6],\n",
      "       [5.1, 3.8, 1.9, 0.4],\n",
      "       [4.8, 3. , 1.4, 0.3],\n",
      "       [5.1, 3.8, 1.6, 0.2],\n",
      "       [4.6, 3.2, 1.4, 0.2],\n",
      "       [5.3, 3.7, 1.5, 0.2],\n",
      "       [5. , 3.3, 1.4, 0.2],\n",
      "       [7. , 3.2, 4.7, 1.4],\n",
      "       [6.4, 3.2, 4.5, 1.5],\n",
      "       [6.9, 3.1, 4.9, 1.5],\n",
      "       [5.5, 2.3, 4. , 1.3],\n",
      "       [6.5, 2.8, 4.6, 1.5],\n",
      "       [5.7, 2.8, 4.5, 1.3],\n",
      "       [6.3, 3.3, 4.7, 1.6],\n",
      "       [4.9, 2.4, 3.3, 1. ],\n",
      "       [6.6, 2.9, 4.6, 1.3],\n",
      "       [5.2, 2.7, 3.9, 1.4],\n",
      "       [5. , 2. , 3.5, 1. ],\n",
      "       [5.9, 3. , 4.2, 1.5],\n",
      "       [6. , 2.2, 4. , 1. ],\n",
      "       [6.1, 2.9, 4.7, 1.4],\n",
      "       [5.6, 2.9, 3.6, 1.3],\n",
      "       [6.7, 3.1, 4.4, 1.4],\n",
      "       [5.6, 3. , 4.5, 1.5],\n",
      "       [5.8, 2.7, 4.1, 1. ],\n",
      "       [6.2, 2.2, 4.5, 1.5],\n",
      "       [5.6, 2.5, 3.9, 1.1],\n",
      "       [5.9, 3.2, 4.8, 1.8],\n",
      "       [6.1, 2.8, 4. , 1.3],\n",
      "       [6.3, 2.5, 4.9, 1.5],\n",
      "       [6.1, 2.8, 4.7, 1.2],\n",
      "       [6.4, 2.9, 4.3, 1.3],\n",
      "       [6.6, 3. , 4.4, 1.4],\n",
      "       [6.8, 2.8, 4.8, 1.4],\n",
      "       [6.7, 3. , 5. , 1.7],\n",
      "       [6. , 2.9, 4.5, 1.5],\n",
      "       [5.7, 2.6, 3.5, 1. ],\n",
      "       [5.5, 2.4, 3.8, 1.1],\n",
      "       [5.5, 2.4, 3.7, 1. ],\n",
      "       [5.8, 2.7, 3.9, 1.2],\n",
      "       [6. , 2.7, 5.1, 1.6],\n",
      "       [5.4, 3. , 4.5, 1.5],\n",
      "       [6. , 3.4, 4.5, 1.6],\n",
      "       [6.7, 3.1, 4.7, 1.5],\n",
      "       [6.3, 2.3, 4.4, 1.3],\n",
      "       [5.6, 3. , 4.1, 1.3],\n",
      "       [5.5, 2.5, 4. , 1.3],\n",
      "       [5.5, 2.6, 4.4, 1.2],\n",
      "       [6.1, 3. , 4.6, 1.4],\n",
      "       [5.8, 2.6, 4. , 1.2],\n",
      "       [5. , 2.3, 3.3, 1. ],\n",
      "       [5.6, 2.7, 4.2, 1.3],\n",
      "       [5.7, 3. , 4.2, 1.2],\n",
      "       [5.7, 2.9, 4.2, 1.3],\n",
      "       [6.2, 2.9, 4.3, 1.3],\n",
      "       [5.1, 2.5, 3. , 1.1],\n",
      "       [5.7, 2.8, 4.1, 1.3],\n",
      "       [6.3, 3.3, 6. , 2.5],\n",
      "       [5.8, 2.7, 5.1, 1.9],\n",
      "       [7.1, 3. , 5.9, 2.1],\n",
      "       [6.3, 2.9, 5.6, 1.8],\n",
      "       [6.5, 3. , 5.8, 2.2],\n",
      "       [7.6, 3. , 6.6, 2.1],\n",
      "       [4.9, 2.5, 4.5, 1.7],\n",
      "       [7.3, 2.9, 6.3, 1.8],\n",
      "       [6.7, 2.5, 5.8, 1.8],\n",
      "       [7.2, 3.6, 6.1, 2.5],\n",
      "       [6.5, 3.2, 5.1, 2. ],\n",
      "       [6.4, 2.7, 5.3, 1.9],\n",
      "       [6.8, 3. , 5.5, 2.1],\n",
      "       [5.7, 2.5, 5. , 2. ],\n",
      "       [5.8, 2.8, 5.1, 2.4],\n",
      "       [6.4, 3.2, 5.3, 2.3],\n",
      "       [6.5, 3. , 5.5, 1.8],\n",
      "       [7.7, 3.8, 6.7, 2.2],\n",
      "       [7.7, 2.6, 6.9, 2.3],\n",
      "       [6. , 2.2, 5. , 1.5],\n",
      "       [6.9, 3.2, 5.7, 2.3],\n",
      "       [5.6, 2.8, 4.9, 2. ],\n",
      "       [7.7, 2.8, 6.7, 2. ],\n",
      "       [6.3, 2.7, 4.9, 1.8],\n",
      "       [6.7, 3.3, 5.7, 2.1],\n",
      "       [7.2, 3.2, 6. , 1.8],\n",
      "       [6.2, 2.8, 4.8, 1.8],\n",
      "       [6.1, 3. , 4.9, 1.8],\n",
      "       [6.4, 2.8, 5.6, 2.1],\n",
      "       [7.2, 3. , 5.8, 1.6],\n",
      "       [7.4, 2.8, 6.1, 1.9],\n",
      "       [7.9, 3.8, 6.4, 2. ],\n",
      "       [6.4, 2.8, 5.6, 2.2],\n",
      "       [6.3, 2.8, 5.1, 1.5],\n",
      "       [6.1, 2.6, 5.6, 1.4],\n",
      "       [7.7, 3. , 6.1, 2.3],\n",
      "       [6.3, 3.4, 5.6, 2.4],\n",
      "       [6.4, 3.1, 5.5, 1.8],\n",
      "       [6. , 3. , 4.8, 1.8],\n",
      "       [6.9, 3.1, 5.4, 2.1],\n",
      "       [6.7, 3.1, 5.6, 2.4],\n",
      "       [6.9, 3.1, 5.1, 2.3],\n",
      "       [5.8, 2.7, 5.1, 1.9],\n",
      "       [6.8, 3.2, 5.9, 2.3],\n",
      "       [6.7, 3.3, 5.7, 2.5],\n",
      "       [6.7, 3. , 5.2, 2.3],\n",
      "       [6.3, 2.5, 5. , 1.9],\n",
      "       [6.5, 3. , 5.2, 2. ],\n",
      "       [6.2, 3.4, 5.4, 2.3],\n",
      "       [5.9, 3. , 5.1, 1.8]]), 'target': array([0, 0, 0, 0, 0, 0, 0, 0, 0, 0, 0, 0, 0, 0, 0, 0, 0, 0, 0, 0, 0, 0,\n",
      "       0, 0, 0, 0, 0, 0, 0, 0, 0, 0, 0, 0, 0, 0, 0, 0, 0, 0, 0, 0, 0, 0,\n",
      "       0, 0, 0, 0, 0, 0, 1, 1, 1, 1, 1, 1, 1, 1, 1, 1, 1, 1, 1, 1, 1, 1,\n",
      "       1, 1, 1, 1, 1, 1, 1, 1, 1, 1, 1, 1, 1, 1, 1, 1, 1, 1, 1, 1, 1, 1,\n",
      "       1, 1, 1, 1, 1, 1, 1, 1, 1, 1, 1, 1, 2, 2, 2, 2, 2, 2, 2, 2, 2, 2,\n",
      "       2, 2, 2, 2, 2, 2, 2, 2, 2, 2, 2, 2, 2, 2, 2, 2, 2, 2, 2, 2, 2, 2,\n",
      "       2, 2, 2, 2, 2, 2, 2, 2, 2, 2, 2, 2, 2, 2, 2, 2, 2, 2]), 'frame': None, 'target_names': array(['setosa', 'versicolor', 'virginica'], dtype='<U10'), 'DESCR': '.. _iris_dataset:\\n\\nIris plants dataset\\n--------------------\\n\\n**Data Set Characteristics:**\\n\\n    :Number of Instances: 150 (50 in each of three classes)\\n    :Number of Attributes: 4 numeric, predictive attributes and the class\\n    :Attribute Information:\\n        - sepal length in cm\\n        - sepal width in cm\\n        - petal length in cm\\n        - petal width in cm\\n        - class:\\n                - Iris-Setosa\\n                - Iris-Versicolour\\n                - Iris-Virginica\\n                \\n    :Summary Statistics:\\n\\n    ============== ==== ==== ======= ===== ====================\\n                    Min  Max   Mean    SD   Class Correlation\\n    ============== ==== ==== ======= ===== ====================\\n    sepal length:   4.3  7.9   5.84   0.83    0.7826\\n    sepal width:    2.0  4.4   3.05   0.43   -0.4194\\n    petal length:   1.0  6.9   3.76   1.76    0.9490  (high!)\\n    petal width:    0.1  2.5   1.20   0.76    0.9565  (high!)\\n    ============== ==== ==== ======= ===== ====================\\n\\n    :Missing Attribute Values: None\\n    :Class Distribution: 33.3% for each of 3 classes.\\n    :Creator: R.A. Fisher\\n    :Donor: Michael Marshall (MARSHALL%PLU@io.arc.nasa.gov)\\n    :Date: July, 1988\\n\\nThe famous Iris database, first used by Sir R.A. Fisher. The dataset is taken\\nfrom Fisher\\'s paper. Note that it\\'s the same as in R, but not as in the UCI\\nMachine Learning Repository, which has two wrong data points.\\n\\nThis is perhaps the best known database to be found in the\\npattern recognition literature.  Fisher\\'s paper is a classic in the field and\\nis referenced frequently to this day.  (See Duda & Hart, for example.)  The\\ndata set contains 3 classes of 50 instances each, where each class refers to a\\ntype of iris plant.  One class is linearly separable from the other 2; the\\nlatter are NOT linearly separable from each other.\\n\\n.. topic:: References\\n\\n   - Fisher, R.A. \"The use of multiple measurements in taxonomic problems\"\\n     Annual Eugenics, 7, Part II, 179-188 (1936); also in \"Contributions to\\n     Mathematical Statistics\" (John Wiley, NY, 1950).\\n   - Duda, R.O., & Hart, P.E. (1973) Pattern Classification and Scene Analysis.\\n     (Q327.D83) John Wiley & Sons.  ISBN 0-471-22361-1.  See page 218.\\n   - Dasarathy, B.V. (1980) \"Nosing Around the Neighborhood: A New System\\n     Structure and Classification Rule for Recognition in Partially Exposed\\n     Environments\".  IEEE Transactions on Pattern Analysis and Machine\\n     Intelligence, Vol. PAMI-2, No. 1, 67-71.\\n   - Gates, G.W. (1972) \"The Reduced Nearest Neighbor Rule\".  IEEE Transactions\\n     on Information Theory, May 1972, 431-433.\\n   - See also: 1988 MLC Proceedings, 54-64.  Cheeseman et al\"s AUTOCLASS II\\n     conceptual clustering system finds 3 classes in the data.\\n   - Many, many more ...', 'feature_names': ['sepal length (cm)', 'sepal width (cm)', 'petal length (cm)', 'petal width (cm)'], 'filename': '/usr/local/lib/python3.7/site-packages/sklearn/datasets/data/iris.csv'}\n"
     ]
    }
   ],
   "source": [
    "print(data)"
   ]
  },
  {
   "cell_type": "code",
   "execution_count": 75,
   "metadata": {},
   "outputs": [],
   "source": [
    "data = datasets.make_blobs(n_samples = 1000, n_features = 100, random_state = 344, centers = 5, cluster_std = 1.3)"
   ]
  },
  {
   "cell_type": "code",
   "execution_count": 76,
   "metadata": {},
   "outputs": [
    {
     "name": "stdout",
     "output_type": "stream",
     "text": [
      "(array([[-4.49496504, -5.35884044, 11.19759476, ..., 10.86035507,\n",
      "        -8.23424707,  6.56640065],\n",
      "       [-6.28495621, -5.4413608 ,  9.44805163, ...,  8.64079784,\n",
      "        -4.83129388,  7.09971565],\n",
      "       [-4.87188963,  6.23728625, -5.08656956, ..., -3.72765134,\n",
      "        -6.96209671, -5.99153999],\n",
      "       ...,\n",
      "       [-5.55204501,  2.37448693, -6.00898687, ..., -4.40084986,\n",
      "        -6.02400815, -5.71457914],\n",
      "       [-5.33875436,  5.07217495, -2.03587318, ..., -3.52330711,\n",
      "        -6.83591435, -6.49372271],\n",
      "       [-3.76701711, -4.16988388,  8.20603431, ..., 10.19999346,\n",
      "        -8.47564509,  6.83398609]]), array([4, 4, 0, 3, 4, 0, 1, 3, 3, 4, 2, 1, 3, 2, 0, 1, 1, 4, 0, 3, 3, 2,\n",
      "       2, 2, 0, 1, 3, 2, 0, 4, 4, 2, 2, 2, 1, 3, 3, 4, 4, 3, 3, 4, 1, 3,\n",
      "       0, 1, 3, 2, 3, 3, 1, 3, 4, 4, 0, 0, 3, 3, 1, 3, 0, 0, 1, 1, 0, 0,\n",
      "       4, 4, 1, 0, 4, 1, 1, 3, 4, 1, 0, 2, 2, 0, 3, 1, 0, 1, 2, 1, 1, 1,\n",
      "       2, 3, 0, 2, 2, 0, 4, 0, 3, 3, 4, 2, 3, 0, 3, 4, 4, 2, 1, 0, 1, 4,\n",
      "       4, 3, 1, 4, 3, 4, 0, 0, 4, 4, 4, 2, 2, 1, 0, 1, 3, 3, 2, 1, 0, 0,\n",
      "       0, 0, 1, 3, 1, 3, 0, 0, 0, 3, 3, 4, 2, 2, 0, 2, 2, 1, 1, 4, 3, 1,\n",
      "       0, 3, 2, 4, 3, 4, 2, 1, 2, 1, 1, 1, 1, 3, 3, 0, 2, 1, 0, 0, 3, 0,\n",
      "       0, 1, 4, 3, 3, 1, 3, 0, 0, 1, 3, 0, 2, 2, 3, 0, 2, 3, 0, 3, 0, 2,\n",
      "       1, 2, 4, 4, 3, 1, 3, 3, 0, 4, 0, 1, 3, 1, 3, 0, 0, 3, 1, 4, 3, 1,\n",
      "       2, 3, 2, 4, 1, 1, 1, 3, 1, 2, 1, 2, 3, 1, 0, 1, 2, 4, 1, 0, 2, 2,\n",
      "       4, 4, 3, 3, 0, 4, 1, 1, 0, 4, 2, 2, 1, 1, 1, 3, 1, 1, 4, 0, 3, 0,\n",
      "       0, 1, 1, 1, 3, 4, 1, 2, 4, 3, 2, 0, 4, 2, 0, 0, 1, 4, 4, 3, 0, 4,\n",
      "       1, 4, 1, 0, 2, 4, 4, 3, 3, 4, 0, 2, 2, 0, 4, 2, 1, 3, 4, 2, 1, 3,\n",
      "       0, 4, 2, 3, 1, 3, 0, 0, 3, 3, 1, 2, 3, 0, 1, 3, 4, 0, 1, 1, 3, 0,\n",
      "       1, 0, 4, 3, 2, 0, 3, 0, 3, 2, 4, 1, 4, 4, 4, 2, 3, 1, 2, 2, 3, 0,\n",
      "       0, 1, 4, 4, 4, 4, 3, 1, 4, 4, 3, 2, 2, 2, 0, 0, 0, 3, 4, 1, 2, 0,\n",
      "       3, 0, 3, 0, 3, 1, 1, 4, 3, 4, 0, 4, 4, 1, 4, 1, 0, 4, 3, 0, 0, 2,\n",
      "       2, 3, 4, 0, 1, 2, 0, 3, 2, 1, 2, 0, 3, 3, 1, 0, 4, 0, 0, 0, 2, 2,\n",
      "       1, 0, 4, 3, 3, 3, 0, 1, 2, 0, 1, 0, 4, 2, 4, 1, 0, 4, 0, 2, 3, 2,\n",
      "       2, 0, 2, 1, 2, 4, 2, 1, 1, 3, 4, 1, 1, 1, 4, 4, 0, 3, 2, 4, 4, 4,\n",
      "       0, 2, 3, 1, 1, 3, 3, 0, 2, 3, 4, 0, 2, 2, 4, 2, 1, 4, 4, 2, 3, 1,\n",
      "       4, 2, 2, 3, 0, 3, 4, 0, 1, 0, 3, 1, 3, 3, 1, 2, 3, 2, 1, 3, 3, 4,\n",
      "       1, 0, 3, 3, 2, 2, 3, 1, 1, 2, 1, 2, 4, 4, 2, 2, 3, 0, 4, 2, 4, 3,\n",
      "       0, 3, 1, 1, 1, 0, 1, 3, 3, 2, 1, 1, 2, 2, 4, 2, 1, 1, 4, 2, 0, 1,\n",
      "       4, 1, 4, 0, 3, 4, 4, 4, 1, 3, 3, 2, 3, 0, 3, 2, 2, 3, 3, 3, 0, 0,\n",
      "       2, 0, 0, 1, 1, 4, 1, 2, 4, 1, 1, 4, 2, 0, 0, 0, 2, 0, 0, 0, 2, 0,\n",
      "       2, 2, 2, 1, 4, 4, 2, 2, 2, 4, 4, 1, 0, 1, 2, 2, 3, 2, 4, 1, 2, 2,\n",
      "       3, 0, 4, 2, 0, 4, 0, 1, 3, 3, 4, 2, 3, 1, 2, 1, 0, 2, 0, 1, 0, 3,\n",
      "       3, 0, 2, 4, 3, 4, 0, 0, 2, 2, 4, 1, 3, 3, 2, 3, 3, 4, 3, 3, 2, 3,\n",
      "       4, 4, 1, 3, 4, 1, 3, 2, 2, 4, 0, 0, 1, 4, 3, 2, 4, 4, 4, 4, 2, 4,\n",
      "       4, 4, 0, 3, 2, 3, 1, 1, 2, 3, 4, 3, 4, 2, 0, 3, 2, 2, 2, 2, 3, 2,\n",
      "       1, 0, 1, 1, 0, 3, 1, 1, 2, 2, 1, 3, 0, 1, 1, 2, 2, 4, 4, 1, 4, 0,\n",
      "       2, 3, 4, 1, 0, 0, 0, 2, 0, 4, 4, 0, 3, 1, 2, 0, 2, 0, 2, 3, 2, 1,\n",
      "       3, 4, 4, 0, 1, 0, 2, 1, 2, 2, 0, 2, 1, 4, 4, 1, 4, 4, 0, 4, 2, 2,\n",
      "       4, 2, 4, 3, 2, 1, 4, 3, 0, 0, 0, 4, 3, 2, 3, 2, 1, 0, 2, 2, 1, 3,\n",
      "       2, 4, 3, 1, 1, 0, 0, 1, 4, 4, 3, 2, 0, 0, 0, 0, 1, 3, 4, 1, 2, 1,\n",
      "       3, 3, 4, 3, 3, 1, 4, 2, 3, 2, 4, 3, 0, 2, 2, 1, 1, 0, 1, 4, 3, 2,\n",
      "       2, 0, 3, 3, 4, 4, 4, 0, 3, 4, 4, 4, 4, 0, 4, 2, 1, 1, 0, 2, 2, 4,\n",
      "       0, 0, 2, 0, 3, 4, 0, 1, 1, 4, 2, 2, 2, 0, 3, 4, 1, 0, 3, 3, 3, 0,\n",
      "       0, 0, 3, 1, 4, 3, 2, 0, 3, 2, 2, 0, 4, 1, 4, 0, 0, 1, 4, 1, 3, 2,\n",
      "       0, 1, 1, 0, 1, 0, 4, 3, 1, 4, 4, 3, 2, 2, 0, 4, 1, 0, 2, 3, 4, 0,\n",
      "       3, 4, 4, 0, 1, 0, 0, 0, 0, 2, 1, 4, 4, 1, 4, 1, 4, 2, 2, 0, 2, 1,\n",
      "       1, 4, 4, 2, 2, 4, 2, 1, 3, 1, 0, 2, 3, 4, 2, 2, 1, 4, 3, 4, 0, 3,\n",
      "       1, 3, 1, 2, 4, 3, 0, 3, 3, 1, 1, 2, 4, 2, 1, 2, 2, 3, 3, 0, 1, 3,\n",
      "       4, 0, 1, 4, 3, 4, 4, 0, 0, 4]))\n"
     ]
    }
   ],
   "source": [
    "print(data)"
   ]
  },
  {
   "cell_type": "code",
   "execution_count": 81,
   "metadata": {},
   "outputs": [
    {
     "name": "stdout",
     "output_type": "stream",
     "text": [
      "(1000, 100)\n",
      "(1000,)\n"
     ]
    },
    {
     "data": {
      "image/png": "[encoded data removed]",
      "text/plain": [
       "<Figure size 432x288 with 1 Axes>"
      ]
     },
     "metadata": {
      "needs_background": "light"
     },
     "output_type": "display_data"
    }
   ],
   "source": [
    "%matplotlib inline\n",
    "X = data[0]\n",
    "Y = data[1]\n",
    "plt.plot(X, Y)\n",
    "print(X.shape)\n",
    "print(Y.shape)"
   ]
  },
  {
   "cell_type": "code",
   "execution_count": 82,
   "metadata": {},
   "outputs": [
    {
     "data": {
      "text/plain": [
       "<matplotlib.collections.PathCollection at 0x1213e4f50>"
      ]
     },
     "execution_count": 82,
     "metadata": {},
     "output_type": "execute_result"
    },
    {
     "data": {
      "image/png": "[encoded data removed]",
      "text/plain": [
       "<Figure size 432x288 with 1 Axes>"
      ]
     },
     "metadata": {
      "needs_background": "light"
     },
     "output_type": "display_data"
    }
   ],
   "source": [
    "Y = [Y for x in range(100)]\n",
    "plt.scatter(X, Y)"
   ]
  },
  {
   "cell_type": "code",
   "execution_count": null,
   "metadata": {},
   "outputs": [],
   "source": []
  }
 ],
 "metadata": {
  "kernelspec": {
   "display_name": "Python 3",
   "language": "python",
   "name": "python3"
  },
  "language_info": {
   "codemirror_mode": {
    "name": "ipython",
    "version": 3
   },
   "file_extension": ".py",
   "mimetype": "text/x-python",
   "name": "python",
   "nbconvert_exporter": "python",
   "pygments_lexer": "ipython3",
   "version": "3.7.6"
  }
 },
 "nbformat": 4,
 "nbformat_minor": 4
}
